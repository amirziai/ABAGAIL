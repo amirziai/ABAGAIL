{
 "cells": [
  {
   "cell_type": "code",
   "execution_count": 1,
   "metadata": {},
   "outputs": [],
   "source": [
    "%matplotlib inline"
   ]
  },
  {
   "cell_type": "code",
   "execution_count": 12,
   "metadata": {},
   "outputs": [],
   "source": [
    "import numpy as np\n",
    "import pandas as pd\n",
    "import matplotlib.pyplot as plt"
   ]
  },
  {
   "cell_type": "code",
   "execution_count": 27,
   "metadata": {},
   "outputs": [],
   "source": [
    "def plot(df_in, ylabel, col, filter_mimic=False, xlabel='Bit string size'):\n",
    "    df = df_in.copy()\n",
    "    if filter_mimic:\n",
    "        df = df[df.algo != algos['mimic']]\n",
    "    fig, ax = plt.subplots()\n",
    "    for label, df_ in df.groupby(['algo']):\n",
    "        df_.groupby('bitstring_size')[col].agg(np.mean).plot(ax=ax, label=label)\n",
    "\n",
    "    plt.xlabel(xlabel)\n",
    "    plt.ylabel(ylabel)\n",
    "    plt.legend();\n",
    "    \n",
    "def table(df):\n",
    "    a = df.groupby(['algo', 'bitstring_size'])[['val', 'time']].agg([np.mean, np.std])\n",
    "    return a\n",
    "\n",
    "def read(name, prefix):\n",
    "    path = '{}/{}.csv'.format(prefix, name)\n",
    "    df = pd.read_csv(path)\n",
    "    df['algo'] = df.algo.replace(algos)\n",
    "    return df\n",
    "\n",
    "def plots(df, xlabel='Bit string size'):\n",
    "    plot(df, 'Fitness', 'val', xlabel=xlabel)\n",
    "    plot(df, 'Time (s)', 'time', xlabel=xlabel)\n",
    "    plot(df, 'Time (s)', 'time', filter_mimic=True, xlabel=xlabel)"
   ]
  },
  {
   "cell_type": "code",
   "execution_count": 4,
   "metadata": {},
   "outputs": [],
   "source": [
    "algos = {\n",
    "    'ga': 'Genetic Algorithms',\n",
    "    'sa': 'Simulated Annealing',\n",
    "    'rhc': 'Randomized Hill Climbing',\n",
    "    'mimic': 'MIMIC'\n",
    "}\n",
    "\n",
    "prefix = 'output'"
   ]
  },
  {
   "cell_type": "markdown",
   "metadata": {},
   "source": [
    "## Flip Flop"
   ]
  },
  {
   "cell_type": "code",
   "execution_count": 5,
   "metadata": {},
   "outputs": [
    {
     "data": {
      "text/html": [
       "<div>\n",
       "<style scoped>\n",
       "    .dataframe tbody tr th:only-of-type {\n",
       "        vertical-align: middle;\n",
       "    }\n",
       "\n",
       "    .dataframe tbody tr th {\n",
       "        vertical-align: top;\n",
       "    }\n",
       "\n",
       "    .dataframe thead th {\n",
       "        text-align: right;\n",
       "    }\n",
       "</style>\n",
       "<table border=\"1\" class=\"dataframe\">\n",
       "  <thead>\n",
       "    <tr style=\"text-align: right;\">\n",
       "      <th></th>\n",
       "      <th>algo</th>\n",
       "      <th>iter</th>\n",
       "      <th>bitstring_size</th>\n",
       "      <th>val</th>\n",
       "      <th>time</th>\n",
       "    </tr>\n",
       "  </thead>\n",
       "  <tbody>\n",
       "    <tr>\n",
       "      <th>0</th>\n",
       "      <td>Randomized Hill Climbing</td>\n",
       "      <td>1</td>\n",
       "      <td>10</td>\n",
       "      <td>8.0</td>\n",
       "      <td>0.046556</td>\n",
       "    </tr>\n",
       "    <tr>\n",
       "      <th>1</th>\n",
       "      <td>Randomized Hill Climbing</td>\n",
       "      <td>2</td>\n",
       "      <td>10</td>\n",
       "      <td>8.0</td>\n",
       "      <td>0.046160</td>\n",
       "    </tr>\n",
       "    <tr>\n",
       "      <th>2</th>\n",
       "      <td>Randomized Hill Climbing</td>\n",
       "      <td>3</td>\n",
       "      <td>10</td>\n",
       "      <td>9.0</td>\n",
       "      <td>0.031111</td>\n",
       "    </tr>\n",
       "  </tbody>\n",
       "</table>\n",
       "</div>"
      ],
      "text/plain": [
       "                       algo  iter  bitstring_size  val      time\n",
       "0  Randomized Hill Climbing     1              10  8.0  0.046556\n",
       "1  Randomized Hill Climbing     2              10  8.0  0.046160\n",
       "2  Randomized Hill Climbing     3              10  9.0  0.031111"
      ]
     },
     "execution_count": 5,
     "metadata": {},
     "output_type": "execute_result"
    }
   ],
   "source": [
    "ff = read('flipflop', prefix)\n",
    "ff.head(3)"
   ]
  },
  {
   "cell_type": "code",
   "execution_count": 182,
   "metadata": {},
   "outputs": [
    {
     "data": {
      "text/plain": [
       "(600, 5)"
      ]
     },
     "execution_count": 182,
     "metadata": {},
     "output_type": "execute_result"
    }
   ],
   "source": [
    "ff.shape"
   ]
  },
  {
   "cell_type": "code",
   "execution_count": 184,
   "metadata": {},
   "outputs": [
    {
     "data": {
      "text/html": [
       "<div>\n",
       "<style scoped>\n",
       "    .dataframe tbody tr th:only-of-type {\n",
       "        vertical-align: middle;\n",
       "    }\n",
       "\n",
       "    .dataframe tbody tr th {\n",
       "        vertical-align: top;\n",
       "    }\n",
       "\n",
       "    .dataframe thead tr th {\n",
       "        text-align: left;\n",
       "    }\n",
       "\n",
       "    .dataframe thead tr:last-of-type th {\n",
       "        text-align: right;\n",
       "    }\n",
       "</style>\n",
       "<table border=\"1\" class=\"dataframe\">\n",
       "  <thead>\n",
       "    <tr>\n",
       "      <th></th>\n",
       "      <th></th>\n",
       "      <th colspan=\"2\" halign=\"left\">val</th>\n",
       "      <th colspan=\"2\" halign=\"left\">time</th>\n",
       "    </tr>\n",
       "    <tr>\n",
       "      <th></th>\n",
       "      <th></th>\n",
       "      <th>mean</th>\n",
       "      <th>std</th>\n",
       "      <th>mean</th>\n",
       "      <th>std</th>\n",
       "    </tr>\n",
       "    <tr>\n",
       "      <th>algo</th>\n",
       "      <th>bitstring_size</th>\n",
       "      <th></th>\n",
       "      <th></th>\n",
       "      <th></th>\n",
       "      <th></th>\n",
       "    </tr>\n",
       "  </thead>\n",
       "  <tbody>\n",
       "    <tr>\n",
       "      <th rowspan=\"5\" valign=\"top\">Genetic Algorithms</th>\n",
       "      <th>10</th>\n",
       "      <td>9.000000</td>\n",
       "      <td>0.000000</td>\n",
       "      <td>0.046032</td>\n",
       "      <td>0.010351</td>\n",
       "    </tr>\n",
       "    <tr>\n",
       "      <th>25</th>\n",
       "      <td>23.166667</td>\n",
       "      <td>0.791478</td>\n",
       "      <td>0.052757</td>\n",
       "      <td>0.004545</td>\n",
       "    </tr>\n",
       "    <tr>\n",
       "      <th>50</th>\n",
       "      <td>46.000000</td>\n",
       "      <td>1.438390</td>\n",
       "      <td>0.057082</td>\n",
       "      <td>0.003531</td>\n",
       "    </tr>\n",
       "    <tr>\n",
       "      <th>100</th>\n",
       "      <td>87.966667</td>\n",
       "      <td>2.370557</td>\n",
       "      <td>0.090463</td>\n",
       "      <td>0.006998</td>\n",
       "    </tr>\n",
       "    <tr>\n",
       "      <th>200</th>\n",
       "      <td>158.233333</td>\n",
       "      <td>3.510411</td>\n",
       "      <td>0.159983</td>\n",
       "      <td>0.026597</td>\n",
       "    </tr>\n",
       "    <tr>\n",
       "      <th rowspan=\"5\" valign=\"top\">MIMIC</th>\n",
       "      <th>10</th>\n",
       "      <td>8.933333</td>\n",
       "      <td>0.253708</td>\n",
       "      <td>0.195793</td>\n",
       "      <td>0.020392</td>\n",
       "    </tr>\n",
       "    <tr>\n",
       "      <th>25</th>\n",
       "      <td>22.866667</td>\n",
       "      <td>0.730297</td>\n",
       "      <td>0.548204</td>\n",
       "      <td>0.031030</td>\n",
       "    </tr>\n",
       "    <tr>\n",
       "      <th>50</th>\n",
       "      <td>46.700000</td>\n",
       "      <td>1.118805</td>\n",
       "      <td>1.401743</td>\n",
       "      <td>0.088521</td>\n",
       "    </tr>\n",
       "    <tr>\n",
       "      <th>100</th>\n",
       "      <td>93.866667</td>\n",
       "      <td>1.455864</td>\n",
       "      <td>3.845081</td>\n",
       "      <td>0.148674</td>\n",
       "    </tr>\n",
       "    <tr>\n",
       "      <th>200</th>\n",
       "      <td>187.433333</td>\n",
       "      <td>1.887953</td>\n",
       "      <td>12.326035</td>\n",
       "      <td>0.654183</td>\n",
       "    </tr>\n",
       "    <tr>\n",
       "      <th rowspan=\"5\" valign=\"top\">Randomized Hill Climbing</th>\n",
       "      <th>10</th>\n",
       "      <td>7.900000</td>\n",
       "      <td>0.711967</td>\n",
       "      <td>0.026754</td>\n",
       "      <td>0.011212</td>\n",
       "    </tr>\n",
       "    <tr>\n",
       "      <th>25</th>\n",
       "      <td>20.133333</td>\n",
       "      <td>1.224276</td>\n",
       "      <td>0.016883</td>\n",
       "      <td>0.001025</td>\n",
       "    </tr>\n",
       "    <tr>\n",
       "      <th>50</th>\n",
       "      <td>40.133333</td>\n",
       "      <td>2.096521</td>\n",
       "      <td>0.023636</td>\n",
       "      <td>0.002450</td>\n",
       "    </tr>\n",
       "    <tr>\n",
       "      <th>100</th>\n",
       "      <td>81.300000</td>\n",
       "      <td>3.677987</td>\n",
       "      <td>0.045259</td>\n",
       "      <td>0.003960</td>\n",
       "    </tr>\n",
       "    <tr>\n",
       "      <th>200</th>\n",
       "      <td>163.300000</td>\n",
       "      <td>4.268166</td>\n",
       "      <td>0.087374</td>\n",
       "      <td>0.008267</td>\n",
       "    </tr>\n",
       "    <tr>\n",
       "      <th rowspan=\"5\" valign=\"top\">Simulated Annealing</th>\n",
       "      <th>10</th>\n",
       "      <td>9.000000</td>\n",
       "      <td>0.000000</td>\n",
       "      <td>0.131502</td>\n",
       "      <td>0.009723</td>\n",
       "    </tr>\n",
       "    <tr>\n",
       "      <th>25</th>\n",
       "      <td>24.000000</td>\n",
       "      <td>0.000000</td>\n",
       "      <td>0.122569</td>\n",
       "      <td>0.005164</td>\n",
       "    </tr>\n",
       "    <tr>\n",
       "      <th>50</th>\n",
       "      <td>49.000000</td>\n",
       "      <td>0.000000</td>\n",
       "      <td>0.133924</td>\n",
       "      <td>0.009730</td>\n",
       "    </tr>\n",
       "    <tr>\n",
       "      <th>100</th>\n",
       "      <td>98.666667</td>\n",
       "      <td>0.479463</td>\n",
       "      <td>0.160639</td>\n",
       "      <td>0.015061</td>\n",
       "    </tr>\n",
       "    <tr>\n",
       "      <th>200</th>\n",
       "      <td>197.500000</td>\n",
       "      <td>1.074789</td>\n",
       "      <td>0.187395</td>\n",
       "      <td>0.007643</td>\n",
       "    </tr>\n",
       "  </tbody>\n",
       "</table>\n",
       "</div>"
      ],
      "text/plain": [
       "                                                val                 time  \\\n",
       "                                               mean       std       mean   \n",
       "algo                     bitstring_size                                    \n",
       "Genetic Algorithms       10                9.000000  0.000000   0.046032   \n",
       "                         25               23.166667  0.791478   0.052757   \n",
       "                         50               46.000000  1.438390   0.057082   \n",
       "                         100              87.966667  2.370557   0.090463   \n",
       "                         200             158.233333  3.510411   0.159983   \n",
       "MIMIC                    10                8.933333  0.253708   0.195793   \n",
       "                         25               22.866667  0.730297   0.548204   \n",
       "                         50               46.700000  1.118805   1.401743   \n",
       "                         100              93.866667  1.455864   3.845081   \n",
       "                         200             187.433333  1.887953  12.326035   \n",
       "Randomized Hill Climbing 10                7.900000  0.711967   0.026754   \n",
       "                         25               20.133333  1.224276   0.016883   \n",
       "                         50               40.133333  2.096521   0.023636   \n",
       "                         100              81.300000  3.677987   0.045259   \n",
       "                         200             163.300000  4.268166   0.087374   \n",
       "Simulated Annealing      10                9.000000  0.000000   0.131502   \n",
       "                         25               24.000000  0.000000   0.122569   \n",
       "                         50               49.000000  0.000000   0.133924   \n",
       "                         100              98.666667  0.479463   0.160639   \n",
       "                         200             197.500000  1.074789   0.187395   \n",
       "\n",
       "                                                   \n",
       "                                              std  \n",
       "algo                     bitstring_size            \n",
       "Genetic Algorithms       10              0.010351  \n",
       "                         25              0.004545  \n",
       "                         50              0.003531  \n",
       "                         100             0.006998  \n",
       "                         200             0.026597  \n",
       "MIMIC                    10              0.020392  \n",
       "                         25              0.031030  \n",
       "                         50              0.088521  \n",
       "                         100             0.148674  \n",
       "                         200             0.654183  \n",
       "Randomized Hill Climbing 10              0.011212  \n",
       "                         25              0.001025  \n",
       "                         50              0.002450  \n",
       "                         100             0.003960  \n",
       "                         200             0.008267  \n",
       "Simulated Annealing      10              0.009723  \n",
       "                         25              0.005164  \n",
       "                         50              0.009730  \n",
       "                         100             0.015061  \n",
       "                         200             0.007643  "
      ]
     },
     "execution_count": 184,
     "metadata": {},
     "output_type": "execute_result"
    }
   ],
   "source": [
    "table(ff)"
   ]
  },
  {
   "cell_type": "code",
   "execution_count": 10,
   "metadata": {},
   "outputs": [
    {
     "data": {
      "text/html": [
       "<div>\n",
       "<style scoped>\n",
       "    .dataframe tbody tr th:only-of-type {\n",
       "        vertical-align: middle;\n",
       "    }\n",
       "\n",
       "    .dataframe tbody tr th {\n",
       "        vertical-align: top;\n",
       "    }\n",
       "\n",
       "    .dataframe thead tr th {\n",
       "        text-align: left;\n",
       "    }\n",
       "\n",
       "    .dataframe thead tr:last-of-type th {\n",
       "        text-align: right;\n",
       "    }\n",
       "</style>\n",
       "<table border=\"1\" class=\"dataframe\">\n",
       "  <thead>\n",
       "    <tr>\n",
       "      <th></th>\n",
       "      <th></th>\n",
       "      <th colspan=\"2\" halign=\"left\">val</th>\n",
       "      <th colspan=\"2\" halign=\"left\">time</th>\n",
       "    </tr>\n",
       "    <tr>\n",
       "      <th></th>\n",
       "      <th></th>\n",
       "      <th>mean</th>\n",
       "      <th>std</th>\n",
       "      <th>mean</th>\n",
       "      <th>std</th>\n",
       "    </tr>\n",
       "    <tr>\n",
       "      <th>algo</th>\n",
       "      <th>bitstring_size</th>\n",
       "      <th></th>\n",
       "      <th></th>\n",
       "      <th></th>\n",
       "      <th></th>\n",
       "    </tr>\n",
       "  </thead>\n",
       "  <tbody>\n",
       "    <tr>\n",
       "      <th>Genetic Algorithms</th>\n",
       "      <th>200</th>\n",
       "      <td>158.233333</td>\n",
       "      <td>3.510411</td>\n",
       "      <td>0.159983</td>\n",
       "      <td>0.026597</td>\n",
       "    </tr>\n",
       "    <tr>\n",
       "      <th>MIMIC</th>\n",
       "      <th>200</th>\n",
       "      <td>187.433333</td>\n",
       "      <td>1.887953</td>\n",
       "      <td>12.326035</td>\n",
       "      <td>0.654183</td>\n",
       "    </tr>\n",
       "    <tr>\n",
       "      <th>Randomized Hill Climbing</th>\n",
       "      <th>200</th>\n",
       "      <td>163.300000</td>\n",
       "      <td>4.268166</td>\n",
       "      <td>0.087374</td>\n",
       "      <td>0.008267</td>\n",
       "    </tr>\n",
       "    <tr>\n",
       "      <th>Simulated Annealing</th>\n",
       "      <th>200</th>\n",
       "      <td>197.500000</td>\n",
       "      <td>1.074789</td>\n",
       "      <td>0.187395</td>\n",
       "      <td>0.007643</td>\n",
       "    </tr>\n",
       "  </tbody>\n",
       "</table>\n",
       "</div>"
      ],
      "text/plain": [
       "                                                val                 time  \\\n",
       "                                               mean       std       mean   \n",
       "algo                     bitstring_size                                    \n",
       "Genetic Algorithms       200             158.233333  3.510411   0.159983   \n",
       "MIMIC                    200             187.433333  1.887953  12.326035   \n",
       "Randomized Hill Climbing 200             163.300000  4.268166   0.087374   \n",
       "Simulated Annealing      200             197.500000  1.074789   0.187395   \n",
       "\n",
       "                                                   \n",
       "                                              std  \n",
       "algo                     bitstring_size            \n",
       "Genetic Algorithms       200             0.026597  \n",
       "MIMIC                    200             0.654183  \n",
       "Randomized Hill Climbing 200             0.008267  \n",
       "Simulated Annealing      200             0.007643  "
      ]
     },
     "execution_count": 10,
     "metadata": {},
     "output_type": "execute_result"
    }
   ],
   "source": [
    "table(ff[ff.bitstring_size == 200])"
   ]
  },
  {
   "cell_type": "code",
   "execution_count": 187,
   "metadata": {},
   "outputs": [
    {
     "data": {
      "image/png": "[encoded data removed]",
      "text/plain": [
       "<matplotlib.figure.Figure at 0x112071470>"
      ]
     },
     "metadata": {},
     "output_type": "display_data"
    },
    {
     "data": {
      "image/png": "[encoded data removed]",
      "text/plain": [
       "<matplotlib.figure.Figure at 0x11202f780>"
      ]
     },
     "metadata": {},
     "output_type": "display_data"
    },
    {
     "data": {
      "image/png": "[encoded data removed]",
      "text/plain": [
       "<matplotlib.figure.Figure at 0x111bafac8>"
      ]
     },
     "metadata": {},
     "output_type": "display_data"
    }
   ],
   "source": [
    "plots(ff)"
   ]
  },
  {
   "cell_type": "markdown",
   "metadata": {},
   "source": [
    "## Traveling Salesman"
   ]
  },
  {
   "cell_type": "code",
   "execution_count": 22,
   "metadata": {},
   "outputs": [],
   "source": [
    "tsm = read('tsm', prefix)"
   ]
  },
  {
   "cell_type": "code",
   "execution_count": 23,
   "metadata": {},
   "outputs": [
    {
     "data": {
      "text/html": [
       "<div>\n",
       "<style scoped>\n",
       "    .dataframe tbody tr th:only-of-type {\n",
       "        vertical-align: middle;\n",
       "    }\n",
       "\n",
       "    .dataframe tbody tr th {\n",
       "        vertical-align: top;\n",
       "    }\n",
       "\n",
       "    .dataframe thead th {\n",
       "        text-align: right;\n",
       "    }\n",
       "</style>\n",
       "<table border=\"1\" class=\"dataframe\">\n",
       "  <thead>\n",
       "    <tr style=\"text-align: right;\">\n",
       "      <th></th>\n",
       "      <th>algo</th>\n",
       "      <th>iter</th>\n",
       "      <th>bitstring_size</th>\n",
       "      <th>val</th>\n",
       "      <th>time</th>\n",
       "    </tr>\n",
       "  </thead>\n",
       "  <tbody>\n",
       "    <tr>\n",
       "      <th>0</th>\n",
       "      <td>Randomized Hill Climbing</td>\n",
       "      <td>1</td>\n",
       "      <td>10</td>\n",
       "      <td>0.355832</td>\n",
       "      <td>0.065438</td>\n",
       "    </tr>\n",
       "    <tr>\n",
       "      <th>1</th>\n",
       "      <td>Randomized Hill Climbing</td>\n",
       "      <td>2</td>\n",
       "      <td>10</td>\n",
       "      <td>0.353517</td>\n",
       "      <td>0.058552</td>\n",
       "    </tr>\n",
       "    <tr>\n",
       "      <th>2</th>\n",
       "      <td>Randomized Hill Climbing</td>\n",
       "      <td>3</td>\n",
       "      <td>10</td>\n",
       "      <td>0.347723</td>\n",
       "      <td>0.037370</td>\n",
       "    </tr>\n",
       "  </tbody>\n",
       "</table>\n",
       "</div>"
      ],
      "text/plain": [
       "                       algo  iter  bitstring_size       val      time\n",
       "0  Randomized Hill Climbing     1              10  0.355832  0.065438\n",
       "1  Randomized Hill Climbing     2              10  0.353517  0.058552\n",
       "2  Randomized Hill Climbing     3              10  0.347723  0.037370"
      ]
     },
     "execution_count": 23,
     "metadata": {},
     "output_type": "execute_result"
    }
   ],
   "source": [
    "tsm.head(3)"
   ]
  },
  {
   "cell_type": "code",
   "execution_count": 24,
   "metadata": {},
   "outputs": [
    {
     "data": {
      "text/plain": [
       "(360, 5)"
      ]
     },
     "execution_count": 24,
     "metadata": {},
     "output_type": "execute_result"
    }
   ],
   "source": [
    "tsm.shape"
   ]
  },
  {
   "cell_type": "code",
   "execution_count": 29,
   "metadata": {},
   "outputs": [
    {
     "data": {
      "text/html": [
       "<div>\n",
       "<style scoped>\n",
       "    .dataframe tbody tr th:only-of-type {\n",
       "        vertical-align: middle;\n",
       "    }\n",
       "\n",
       "    .dataframe tbody tr th {\n",
       "        vertical-align: top;\n",
       "    }\n",
       "\n",
       "    .dataframe thead tr th {\n",
       "        text-align: left;\n",
       "    }\n",
       "\n",
       "    .dataframe thead tr:last-of-type th {\n",
       "        text-align: right;\n",
       "    }\n",
       "</style>\n",
       "<table border=\"1\" class=\"dataframe\">\n",
       "  <thead>\n",
       "    <tr>\n",
       "      <th></th>\n",
       "      <th></th>\n",
       "      <th colspan=\"2\" halign=\"left\">val</th>\n",
       "      <th colspan=\"2\" halign=\"left\">time</th>\n",
       "    </tr>\n",
       "    <tr>\n",
       "      <th></th>\n",
       "      <th></th>\n",
       "      <th>mean</th>\n",
       "      <th>std</th>\n",
       "      <th>mean</th>\n",
       "      <th>std</th>\n",
       "    </tr>\n",
       "    <tr>\n",
       "      <th>algo</th>\n",
       "      <th>bitstring_size</th>\n",
       "      <th></th>\n",
       "      <th></th>\n",
       "      <th></th>\n",
       "      <th></th>\n",
       "    </tr>\n",
       "  </thead>\n",
       "  <tbody>\n",
       "    <tr>\n",
       "      <th>Genetic Algorithms</th>\n",
       "      <th>50</th>\n",
       "      <td>0.150622</td>\n",
       "      <td>0.010970</td>\n",
       "      <td>0.410861</td>\n",
       "      <td>0.031259</td>\n",
       "    </tr>\n",
       "    <tr>\n",
       "      <th>MIMIC</th>\n",
       "      <th>50</th>\n",
       "      <td>0.087859</td>\n",
       "      <td>0.007197</td>\n",
       "      <td>17.962625</td>\n",
       "      <td>0.261454</td>\n",
       "    </tr>\n",
       "    <tr>\n",
       "      <th>Randomized Hill Climbing</th>\n",
       "      <th>50</th>\n",
       "      <td>0.117750</td>\n",
       "      <td>0.009788</td>\n",
       "      <td>0.083957</td>\n",
       "      <td>0.005182</td>\n",
       "    </tr>\n",
       "    <tr>\n",
       "      <th>Simulated Annealing</th>\n",
       "      <th>50</th>\n",
       "      <td>0.119003</td>\n",
       "      <td>0.009386</td>\n",
       "      <td>0.281163</td>\n",
       "      <td>0.010581</td>\n",
       "    </tr>\n",
       "  </tbody>\n",
       "</table>\n",
       "</div>"
      ],
      "text/plain": [
       "                                              val                 time  \\\n",
       "                                             mean       std       mean   \n",
       "algo                     bitstring_size                                  \n",
       "Genetic Algorithms       50              0.150622  0.010970   0.410861   \n",
       "MIMIC                    50              0.087859  0.007197  17.962625   \n",
       "Randomized Hill Climbing 50              0.117750  0.009788   0.083957   \n",
       "Simulated Annealing      50              0.119003  0.009386   0.281163   \n",
       "\n",
       "                                                   \n",
       "                                              std  \n",
       "algo                     bitstring_size            \n",
       "Genetic Algorithms       50              0.031259  \n",
       "MIMIC                    50              0.261454  \n",
       "Randomized Hill Climbing 50              0.005182  \n",
       "Simulated Annealing      50              0.010581  "
      ]
     },
     "execution_count": 29,
     "metadata": {},
     "output_type": "execute_result"
    }
   ],
   "source": [
    "table(tsm[tsm.bitstring_size == 50])"
   ]
  },
  {
   "cell_type": "code",
   "execution_count": 25,
   "metadata": {},
   "outputs": [
    {
     "data": {
      "text/html": [
       "<div>\n",
       "<style scoped>\n",
       "    .dataframe tbody tr th:only-of-type {\n",
       "        vertical-align: middle;\n",
       "    }\n",
       "\n",
       "    .dataframe tbody tr th {\n",
       "        vertical-align: top;\n",
       "    }\n",
       "\n",
       "    .dataframe thead tr th {\n",
       "        text-align: left;\n",
       "    }\n",
       "\n",
       "    .dataframe thead tr:last-of-type th {\n",
       "        text-align: right;\n",
       "    }\n",
       "</style>\n",
       "<table border=\"1\" class=\"dataframe\">\n",
       "  <thead>\n",
       "    <tr>\n",
       "      <th></th>\n",
       "      <th></th>\n",
       "      <th colspan=\"2\" halign=\"left\">val</th>\n",
       "      <th colspan=\"2\" halign=\"left\">time</th>\n",
       "    </tr>\n",
       "    <tr>\n",
       "      <th></th>\n",
       "      <th></th>\n",
       "      <th>mean</th>\n",
       "      <th>std</th>\n",
       "      <th>mean</th>\n",
       "      <th>std</th>\n",
       "    </tr>\n",
       "    <tr>\n",
       "      <th>algo</th>\n",
       "      <th>bitstring_size</th>\n",
       "      <th></th>\n",
       "      <th></th>\n",
       "      <th></th>\n",
       "      <th></th>\n",
       "    </tr>\n",
       "  </thead>\n",
       "  <tbody>\n",
       "    <tr>\n",
       "      <th rowspan=\"3\" valign=\"top\">Genetic Algorithms</th>\n",
       "      <th>10</th>\n",
       "      <td>0.348299</td>\n",
       "      <td>5.020494e-03</td>\n",
       "      <td>0.104265</td>\n",
       "      <td>0.008121</td>\n",
       "    </tr>\n",
       "    <tr>\n",
       "      <th>25</th>\n",
       "      <td>0.235688</td>\n",
       "      <td>3.135105e-17</td>\n",
       "      <td>0.203942</td>\n",
       "      <td>0.004061</td>\n",
       "    </tr>\n",
       "    <tr>\n",
       "      <th>50</th>\n",
       "      <td>0.150622</td>\n",
       "      <td>1.096998e-02</td>\n",
       "      <td>0.410861</td>\n",
       "      <td>0.031259</td>\n",
       "    </tr>\n",
       "    <tr>\n",
       "      <th rowspan=\"3\" valign=\"top\">MIMIC</th>\n",
       "      <th>10</th>\n",
       "      <td>0.332806</td>\n",
       "      <td>2.039326e-02</td>\n",
       "      <td>0.420066</td>\n",
       "      <td>0.030703</td>\n",
       "    </tr>\n",
       "    <tr>\n",
       "      <th>25</th>\n",
       "      <td>0.180719</td>\n",
       "      <td>1.725839e-02</td>\n",
       "      <td>2.464884</td>\n",
       "      <td>0.065191</td>\n",
       "    </tr>\n",
       "    <tr>\n",
       "      <th>50</th>\n",
       "      <td>0.087859</td>\n",
       "      <td>7.197018e-03</td>\n",
       "      <td>17.962625</td>\n",
       "      <td>0.261454</td>\n",
       "    </tr>\n",
       "    <tr>\n",
       "      <th rowspan=\"3\" valign=\"top\">Randomized Hill Climbing</th>\n",
       "      <th>10</th>\n",
       "      <td>0.348778</td>\n",
       "      <td>1.714827e-02</td>\n",
       "      <td>0.032323</td>\n",
       "      <td>0.011025</td>\n",
       "    </tr>\n",
       "    <tr>\n",
       "      <th>25</th>\n",
       "      <td>0.198382</td>\n",
       "      <td>1.403418e-02</td>\n",
       "      <td>0.043760</td>\n",
       "      <td>0.001796</td>\n",
       "    </tr>\n",
       "    <tr>\n",
       "      <th>50</th>\n",
       "      <td>0.117750</td>\n",
       "      <td>9.788477e-03</td>\n",
       "      <td>0.083957</td>\n",
       "      <td>0.005182</td>\n",
       "    </tr>\n",
       "    <tr>\n",
       "      <th rowspan=\"3\" valign=\"top\">Simulated Annealing</th>\n",
       "      <th>10</th>\n",
       "      <td>0.345862</td>\n",
       "      <td>2.045278e-02</td>\n",
       "      <td>0.201149</td>\n",
       "      <td>0.008663</td>\n",
       "    </tr>\n",
       "    <tr>\n",
       "      <th>25</th>\n",
       "      <td>0.195421</td>\n",
       "      <td>1.684091e-02</td>\n",
       "      <td>0.224532</td>\n",
       "      <td>0.004903</td>\n",
       "    </tr>\n",
       "    <tr>\n",
       "      <th>50</th>\n",
       "      <td>0.119003</td>\n",
       "      <td>9.386265e-03</td>\n",
       "      <td>0.281163</td>\n",
       "      <td>0.010581</td>\n",
       "    </tr>\n",
       "  </tbody>\n",
       "</table>\n",
       "</div>"
      ],
      "text/plain": [
       "                                              val                     time  \\\n",
       "                                             mean           std       mean   \n",
       "algo                     bitstring_size                                      \n",
       "Genetic Algorithms       10              0.348299  5.020494e-03   0.104265   \n",
       "                         25              0.235688  3.135105e-17   0.203942   \n",
       "                         50              0.150622  1.096998e-02   0.410861   \n",
       "MIMIC                    10              0.332806  2.039326e-02   0.420066   \n",
       "                         25              0.180719  1.725839e-02   2.464884   \n",
       "                         50              0.087859  7.197018e-03  17.962625   \n",
       "Randomized Hill Climbing 10              0.348778  1.714827e-02   0.032323   \n",
       "                         25              0.198382  1.403418e-02   0.043760   \n",
       "                         50              0.117750  9.788477e-03   0.083957   \n",
       "Simulated Annealing      10              0.345862  2.045278e-02   0.201149   \n",
       "                         25              0.195421  1.684091e-02   0.224532   \n",
       "                         50              0.119003  9.386265e-03   0.281163   \n",
       "\n",
       "                                                   \n",
       "                                              std  \n",
       "algo                     bitstring_size            \n",
       "Genetic Algorithms       10              0.008121  \n",
       "                         25              0.004061  \n",
       "                         50              0.031259  \n",
       "MIMIC                    10              0.030703  \n",
       "                         25              0.065191  \n",
       "                         50              0.261454  \n",
       "Randomized Hill Climbing 10              0.011025  \n",
       "                         25              0.001796  \n",
       "                         50              0.005182  \n",
       "Simulated Annealing      10              0.008663  \n",
       "                         25              0.004903  \n",
       "                         50              0.010581  "
      ]
     },
     "execution_count": 25,
     "metadata": {},
     "output_type": "execute_result"
    }
   ],
   "source": [
    "table(tsm)"
   ]
  },
  {
   "cell_type": "code",
   "execution_count": 28,
   "metadata": {},
   "outputs": [
    {
     "data": {
      "image/png": "[encoded data removed]",
      "text/plain": [
       "<matplotlib.figure.Figure at 0x108f56198>"
      ]
     },
     "metadata": {},
     "output_type": "display_data"
    },
    {
     "data": {
      "image/png": "[encoded data removed]",
      "text/plain": [
       "<matplotlib.figure.Figure at 0x1093067f0>"
      ]
     },
     "metadata": {},
     "output_type": "display_data"
    },
    {
     "data": {
      "image/png": "[encoded data removed]",
      "text/plain": [
       "<matplotlib.figure.Figure at 0x1093baf60>"
      ]
     },
     "metadata": {},
     "output_type": "display_data"
    }
   ],
   "source": [
    "plots(tsm, xlabel='N')"
   ]
  },
  {
   "cell_type": "markdown",
   "metadata": {},
   "source": [
    "## Four peaks"
   ]
  },
  {
   "cell_type": "code",
   "execution_count": 35,
   "metadata": {},
   "outputs": [],
   "source": [
    "def four_peaks(bs, t):\n",
    "    i = 0\n",
    "    while (i < len(bs) and bs[i] == 1):\n",
    "        i += 1\n",
    "        \n",
    "    head = i\n",
    "    i = len(bs) - 1\n",
    "    \n",
    "    while (i >=0 and bs[i] == 0):\n",
    "        i -= 1\n",
    "        \n",
    "    tail = len(bs) - 1 - i\n",
    "    r = 0\n",
    "    if (head > t and tail > t):\n",
    "        r = len(bs)\n",
    "        \n",
    "    print(tail, head, r)\n",
    "    return max(tail, head) + r"
   ]
  },
  {
   "cell_type": "code",
   "execution_count": 37,
   "metadata": {},
   "outputs": [
    {
     "name": "stdout",
     "output_type": "stream",
     "text": [
      "3 2 5\n"
     ]
    },
    {
     "data": {
      "text/plain": [
       "8"
      ]
     },
     "execution_count": 37,
     "metadata": {},
     "output_type": "execute_result"
    }
   ],
   "source": [
    "four_peaks([1, 1, 0, 0, 0], 1)"
   ]
  },
  {
   "cell_type": "code",
   "execution_count": 38,
   "metadata": {},
   "outputs": [],
   "source": [
    "fp = read('fourpeaks', prefix)"
   ]
  },
  {
   "cell_type": "code",
   "execution_count": 39,
   "metadata": {},
   "outputs": [
    {
     "data": {
      "text/plain": [
       "(480, 5)"
      ]
     },
     "execution_count": 39,
     "metadata": {},
     "output_type": "execute_result"
    }
   ],
   "source": [
    "fp.shape"
   ]
  },
  {
   "cell_type": "code",
   "execution_count": 40,
   "metadata": {},
   "outputs": [
    {
     "data": {
      "text/html": [
       "<div>\n",
       "<style scoped>\n",
       "    .dataframe tbody tr th:only-of-type {\n",
       "        vertical-align: middle;\n",
       "    }\n",
       "\n",
       "    .dataframe tbody tr th {\n",
       "        vertical-align: top;\n",
       "    }\n",
       "\n",
       "    .dataframe thead th {\n",
       "        text-align: right;\n",
       "    }\n",
       "</style>\n",
       "<table border=\"1\" class=\"dataframe\">\n",
       "  <thead>\n",
       "    <tr style=\"text-align: right;\">\n",
       "      <th></th>\n",
       "      <th>algo</th>\n",
       "      <th>iter</th>\n",
       "      <th>bitstring_size</th>\n",
       "      <th>val</th>\n",
       "      <th>time</th>\n",
       "    </tr>\n",
       "  </thead>\n",
       "  <tbody>\n",
       "    <tr>\n",
       "      <th>0</th>\n",
       "      <td>Randomized Hill Climbing</td>\n",
       "      <td>1</td>\n",
       "      <td>20</td>\n",
       "      <td>20.0</td>\n",
       "      <td>0.052466</td>\n",
       "    </tr>\n",
       "    <tr>\n",
       "      <th>1</th>\n",
       "      <td>Randomized Hill Climbing</td>\n",
       "      <td>2</td>\n",
       "      <td>20</td>\n",
       "      <td>20.0</td>\n",
       "      <td>0.038216</td>\n",
       "    </tr>\n",
       "    <tr>\n",
       "      <th>2</th>\n",
       "      <td>Randomized Hill Climbing</td>\n",
       "      <td>3</td>\n",
       "      <td>20</td>\n",
       "      <td>20.0</td>\n",
       "      <td>0.023783</td>\n",
       "    </tr>\n",
       "  </tbody>\n",
       "</table>\n",
       "</div>"
      ],
      "text/plain": [
       "                       algo  iter  bitstring_size   val      time\n",
       "0  Randomized Hill Climbing     1              20  20.0  0.052466\n",
       "1  Randomized Hill Climbing     2              20  20.0  0.038216\n",
       "2  Randomized Hill Climbing     3              20  20.0  0.023783"
      ]
     },
     "execution_count": 40,
     "metadata": {},
     "output_type": "execute_result"
    }
   ],
   "source": [
    "fp.head(3)"
   ]
  },
  {
   "cell_type": "code",
   "execution_count": 65,
   "metadata": {},
   "outputs": [
    {
     "data": {
      "text/plain": [
       "100.0    0.766667\n",
       "189.0    0.233333\n",
       "Name: val, dtype: float64"
      ]
     },
     "execution_count": 65,
     "metadata": {},
     "output_type": "execute_result"
    }
   ],
   "source": [
    "fp[(fp.bitstring_size == 100) & (fp.algo == 'MIMIC')]['val'].value_counts(normalize=True)"
   ]
  },
  {
   "cell_type": "code",
   "execution_count": 66,
   "metadata": {},
   "outputs": [
    {
     "data": {
      "text/plain": [
       "100.0    0.866667\n",
       "189.0    0.133333\n",
       "Name: val, dtype: float64"
      ]
     },
     "execution_count": 66,
     "metadata": {},
     "output_type": "execute_result"
    }
   ],
   "source": [
    "fp[(fp.bitstring_size == 100) & (fp.algo == 'Simulated Annealing')]['val'].value_counts(normalize=True)"
   ]
  },
  {
   "cell_type": "code",
   "execution_count": 68,
   "metadata": {},
   "outputs": [
    {
     "data": {
      "text/plain": [
       "100.0    0.966667\n",
       "189.0    0.033333\n",
       "Name: val, dtype: float64"
      ]
     },
     "execution_count": 68,
     "metadata": {},
     "output_type": "execute_result"
    }
   ],
   "source": [
    "fp[(fp.bitstring_size == 100) & (fp.algo == 'Randomized Hill Climbing')]['val'].value_counts(normalize=True)"
   ]
  },
  {
   "cell_type": "code",
   "execution_count": 73,
   "metadata": {},
   "outputs": [
    {
     "data": {
      "text/plain": [
       "<matplotlib.axes._subplots.AxesSubplot at 0x10a01f4a8>"
      ]
     },
     "execution_count": 73,
     "metadata": {},
     "output_type": "execute_result"
    },
    {
     "data": {
      "image/png": "[encoded data removed]",
      "text/plain": [
       "<matplotlib.figure.Figure at 0x10a00c908>"
      ]
     },
     "metadata": {},
     "output_type": "display_data"
    }
   ],
   "source": [
    "fp[(fp.bitstring_size == 100) & (fp.algo == 'Genetic Algorithms')]['val'].hist()"
   ]
  },
  {
   "cell_type": "code",
   "execution_count": 60,
   "metadata": {},
   "outputs": [
    {
     "data": {
      "text/plain": [
       "<matplotlib.axes._subplots.AxesSubplot at 0x108e67fd0>"
      ]
     },
     "execution_count": 60,
     "metadata": {},
     "output_type": "execute_result"
    },
    {
     "data": {
      "image/png": "[encoded data removed]",
      "text/plain": [
       "<matplotlib.figure.Figure at 0x108f47a90>"
      ]
     },
     "metadata": {},
     "output_type": "display_data"
    }
   ],
   "source": [
    "fp[(fp.bitstring_size == 100) & (fp.algo == 'Randomized Hill Climbing')]['val'].hist()"
   ]
  },
  {
   "cell_type": "code",
   "execution_count": 52,
   "metadata": {},
   "outputs": [
    {
     "data": {
      "text/plain": [
       "<matplotlib.axes._subplots.AxesSubplot at 0x109475550>"
      ]
     },
     "execution_count": 52,
     "metadata": {},
     "output_type": "execute_result"
    },
    {
     "data": {
      "image/png": "[encoded data removed]",
      "text/plain": [
       "<matplotlib.figure.Figure at 0x109151a90>"
      ]
     },
     "metadata": {},
     "output_type": "display_data"
    }
   ],
   "source": [
    "fp[(fp.bitstring_size == 100) & (fp.algo != 'Genetic Algorithms')].boxplot('val', by='algo')"
   ]
  },
  {
   "cell_type": "code",
   "execution_count": 48,
   "metadata": {},
   "outputs": [
    {
     "data": {
      "text/html": [
       "<div>\n",
       "<style scoped>\n",
       "    .dataframe tbody tr th:only-of-type {\n",
       "        vertical-align: middle;\n",
       "    }\n",
       "\n",
       "    .dataframe tbody tr th {\n",
       "        vertical-align: top;\n",
       "    }\n",
       "\n",
       "    .dataframe thead th {\n",
       "        text-align: right;\n",
       "    }\n",
       "</style>\n",
       "<table border=\"1\" class=\"dataframe\">\n",
       "  <thead>\n",
       "    <tr style=\"text-align: right;\">\n",
       "      <th></th>\n",
       "      <th>iter</th>\n",
       "      <th>bitstring_size</th>\n",
       "      <th>val</th>\n",
       "      <th>time</th>\n",
       "    </tr>\n",
       "  </thead>\n",
       "  <tbody>\n",
       "    <tr>\n",
       "      <th>count</th>\n",
       "      <td>30.000000</td>\n",
       "      <td>30.0</td>\n",
       "      <td>30.000000</td>\n",
       "      <td>30.000000</td>\n",
       "    </tr>\n",
       "    <tr>\n",
       "      <th>mean</th>\n",
       "      <td>15.500000</td>\n",
       "      <td>100.0</td>\n",
       "      <td>120.766667</td>\n",
       "      <td>3.682052</td>\n",
       "    </tr>\n",
       "    <tr>\n",
       "      <th>std</th>\n",
       "      <td>8.803408</td>\n",
       "      <td>0.0</td>\n",
       "      <td>38.286293</td>\n",
       "      <td>0.073964</td>\n",
       "    </tr>\n",
       "    <tr>\n",
       "      <th>min</th>\n",
       "      <td>1.000000</td>\n",
       "      <td>100.0</td>\n",
       "      <td>100.000000</td>\n",
       "      <td>3.525680</td>\n",
       "    </tr>\n",
       "    <tr>\n",
       "      <th>25%</th>\n",
       "      <td>8.250000</td>\n",
       "      <td>100.0</td>\n",
       "      <td>100.000000</td>\n",
       "      <td>3.612115</td>\n",
       "    </tr>\n",
       "    <tr>\n",
       "      <th>50%</th>\n",
       "      <td>15.500000</td>\n",
       "      <td>100.0</td>\n",
       "      <td>100.000000</td>\n",
       "      <td>3.689513</td>\n",
       "    </tr>\n",
       "    <tr>\n",
       "      <th>75%</th>\n",
       "      <td>22.750000</td>\n",
       "      <td>100.0</td>\n",
       "      <td>100.000000</td>\n",
       "      <td>3.738978</td>\n",
       "    </tr>\n",
       "    <tr>\n",
       "      <th>max</th>\n",
       "      <td>30.000000</td>\n",
       "      <td>100.0</td>\n",
       "      <td>189.000000</td>\n",
       "      <td>3.812525</td>\n",
       "    </tr>\n",
       "  </tbody>\n",
       "</table>\n",
       "</div>"
      ],
      "text/plain": [
       "            iter  bitstring_size         val       time\n",
       "count  30.000000            30.0   30.000000  30.000000\n",
       "mean   15.500000           100.0  120.766667   3.682052\n",
       "std     8.803408             0.0   38.286293   0.073964\n",
       "min     1.000000           100.0  100.000000   3.525680\n",
       "25%     8.250000           100.0  100.000000   3.612115\n",
       "50%    15.500000           100.0  100.000000   3.689513\n",
       "75%    22.750000           100.0  100.000000   3.738978\n",
       "max    30.000000           100.0  189.000000   3.812525"
      ]
     },
     "execution_count": 48,
     "metadata": {},
     "output_type": "execute_result"
    }
   ],
   "source": [
    "fp[(fp.algo == 'MIMIC') & (fp.bitstring_size == 100)].describe()"
   ]
  },
  {
   "cell_type": "code",
   "execution_count": 41,
   "metadata": {},
   "outputs": [
    {
     "data": {
      "text/html": [
       "<div>\n",
       "<style scoped>\n",
       "    .dataframe tbody tr th:only-of-type {\n",
       "        vertical-align: middle;\n",
       "    }\n",
       "\n",
       "    .dataframe tbody tr th {\n",
       "        vertical-align: top;\n",
       "    }\n",
       "\n",
       "    .dataframe thead tr th {\n",
       "        text-align: left;\n",
       "    }\n",
       "\n",
       "    .dataframe thead tr:last-of-type th {\n",
       "        text-align: right;\n",
       "    }\n",
       "</style>\n",
       "<table border=\"1\" class=\"dataframe\">\n",
       "  <thead>\n",
       "    <tr>\n",
       "      <th></th>\n",
       "      <th></th>\n",
       "      <th colspan=\"2\" halign=\"left\">val</th>\n",
       "      <th colspan=\"2\" halign=\"left\">time</th>\n",
       "    </tr>\n",
       "    <tr>\n",
       "      <th></th>\n",
       "      <th></th>\n",
       "      <th>mean</th>\n",
       "      <th>std</th>\n",
       "      <th>mean</th>\n",
       "      <th>std</th>\n",
       "    </tr>\n",
       "    <tr>\n",
       "      <th>algo</th>\n",
       "      <th>bitstring_size</th>\n",
       "      <th></th>\n",
       "      <th></th>\n",
       "      <th></th>\n",
       "      <th></th>\n",
       "    </tr>\n",
       "  </thead>\n",
       "  <tbody>\n",
       "    <tr>\n",
       "      <th rowspan=\"4\" valign=\"top\">Genetic Algorithms</th>\n",
       "      <th>20</th>\n",
       "      <td>37.000000</td>\n",
       "      <td>0.000000</td>\n",
       "      <td>0.045071</td>\n",
       "      <td>0.006224</td>\n",
       "    </tr>\n",
       "    <tr>\n",
       "      <th>50</th>\n",
       "      <td>72.500000</td>\n",
       "      <td>5.709943</td>\n",
       "      <td>0.052271</td>\n",
       "      <td>0.002691</td>\n",
       "    </tr>\n",
       "    <tr>\n",
       "      <th>80</th>\n",
       "      <td>94.233333</td>\n",
       "      <td>12.973935</td>\n",
       "      <td>0.064858</td>\n",
       "      <td>0.003143</td>\n",
       "    </tr>\n",
       "    <tr>\n",
       "      <th>100</th>\n",
       "      <td>87.300000</td>\n",
       "      <td>47.305427</td>\n",
       "      <td>0.075050</td>\n",
       "      <td>0.004095</td>\n",
       "    </tr>\n",
       "    <tr>\n",
       "      <th rowspan=\"4\" valign=\"top\">MIMIC</th>\n",
       "      <th>20</th>\n",
       "      <td>37.000000</td>\n",
       "      <td>0.000000</td>\n",
       "      <td>0.402536</td>\n",
       "      <td>0.018143</td>\n",
       "    </tr>\n",
       "    <tr>\n",
       "      <th>50</th>\n",
       "      <td>91.066667</td>\n",
       "      <td>11.163158</td>\n",
       "      <td>1.284483</td>\n",
       "      <td>0.021907</td>\n",
       "    </tr>\n",
       "    <tr>\n",
       "      <th>80</th>\n",
       "      <td>103.666667</td>\n",
       "      <td>34.041894</td>\n",
       "      <td>2.623392</td>\n",
       "      <td>0.104885</td>\n",
       "    </tr>\n",
       "    <tr>\n",
       "      <th>100</th>\n",
       "      <td>120.766667</td>\n",
       "      <td>38.286293</td>\n",
       "      <td>3.682052</td>\n",
       "      <td>0.073964</td>\n",
       "    </tr>\n",
       "    <tr>\n",
       "      <th rowspan=\"4\" valign=\"top\">Randomized Hill Climbing</th>\n",
       "      <th>20</th>\n",
       "      <td>23.966667</td>\n",
       "      <td>7.313112</td>\n",
       "      <td>0.022668</td>\n",
       "      <td>0.011971</td>\n",
       "    </tr>\n",
       "    <tr>\n",
       "      <th>50</th>\n",
       "      <td>51.466667</td>\n",
       "      <td>8.033264</td>\n",
       "      <td>0.022478</td>\n",
       "      <td>0.001920</td>\n",
       "    </tr>\n",
       "    <tr>\n",
       "      <th>80</th>\n",
       "      <td>80.000000</td>\n",
       "      <td>0.000000</td>\n",
       "      <td>0.031859</td>\n",
       "      <td>0.002956</td>\n",
       "    </tr>\n",
       "    <tr>\n",
       "      <th>100</th>\n",
       "      <td>102.966667</td>\n",
       "      <td>16.249103</td>\n",
       "      <td>0.040051</td>\n",
       "      <td>0.003906</td>\n",
       "    </tr>\n",
       "    <tr>\n",
       "      <th rowspan=\"4\" valign=\"top\">Simulated Annealing</th>\n",
       "      <th>20</th>\n",
       "      <td>34.166667</td>\n",
       "      <td>6.443833</td>\n",
       "      <td>0.125619</td>\n",
       "      <td>0.015326</td>\n",
       "    </tr>\n",
       "    <tr>\n",
       "      <th>50</th>\n",
       "      <td>80.800000</td>\n",
       "      <td>20.508030</td>\n",
       "      <td>0.124929</td>\n",
       "      <td>0.003740</td>\n",
       "    </tr>\n",
       "    <tr>\n",
       "      <th>80</th>\n",
       "      <td>103.666667</td>\n",
       "      <td>34.041894</td>\n",
       "      <td>0.131897</td>\n",
       "      <td>0.003732</td>\n",
       "    </tr>\n",
       "    <tr>\n",
       "      <th>100</th>\n",
       "      <td>111.866667</td>\n",
       "      <td>30.771385</td>\n",
       "      <td>0.140682</td>\n",
       "      <td>0.002665</td>\n",
       "    </tr>\n",
       "  </tbody>\n",
       "</table>\n",
       "</div>"
      ],
      "text/plain": [
       "                                                val                 time  \\\n",
       "                                               mean        std      mean   \n",
       "algo                     bitstring_size                                    \n",
       "Genetic Algorithms       20               37.000000   0.000000  0.045071   \n",
       "                         50               72.500000   5.709943  0.052271   \n",
       "                         80               94.233333  12.973935  0.064858   \n",
       "                         100              87.300000  47.305427  0.075050   \n",
       "MIMIC                    20               37.000000   0.000000  0.402536   \n",
       "                         50               91.066667  11.163158  1.284483   \n",
       "                         80              103.666667  34.041894  2.623392   \n",
       "                         100             120.766667  38.286293  3.682052   \n",
       "Randomized Hill Climbing 20               23.966667   7.313112  0.022668   \n",
       "                         50               51.466667   8.033264  0.022478   \n",
       "                         80               80.000000   0.000000  0.031859   \n",
       "                         100             102.966667  16.249103  0.040051   \n",
       "Simulated Annealing      20               34.166667   6.443833  0.125619   \n",
       "                         50               80.800000  20.508030  0.124929   \n",
       "                         80              103.666667  34.041894  0.131897   \n",
       "                         100             111.866667  30.771385  0.140682   \n",
       "\n",
       "                                                   \n",
       "                                              std  \n",
       "algo                     bitstring_size            \n",
       "Genetic Algorithms       20              0.006224  \n",
       "                         50              0.002691  \n",
       "                         80              0.003143  \n",
       "                         100             0.004095  \n",
       "MIMIC                    20              0.018143  \n",
       "                         50              0.021907  \n",
       "                         80              0.104885  \n",
       "                         100             0.073964  \n",
       "Randomized Hill Climbing 20              0.011971  \n",
       "                         50              0.001920  \n",
       "                         80              0.002956  \n",
       "                         100             0.003906  \n",
       "Simulated Annealing      20              0.015326  \n",
       "                         50              0.003740  \n",
       "                         80              0.003732  \n",
       "                         100             0.002665  "
      ]
     },
     "execution_count": 41,
     "metadata": {},
     "output_type": "execute_result"
    }
   ],
   "source": [
    "table(fp)"
   ]
  },
  {
   "cell_type": "code",
   "execution_count": 44,
   "metadata": {},
   "outputs": [
    {
     "data": {
      "text/html": [
       "<div>\n",
       "<style scoped>\n",
       "    .dataframe tbody tr th:only-of-type {\n",
       "        vertical-align: middle;\n",
       "    }\n",
       "\n",
       "    .dataframe tbody tr th {\n",
       "        vertical-align: top;\n",
       "    }\n",
       "\n",
       "    .dataframe thead tr th {\n",
       "        text-align: left;\n",
       "    }\n",
       "\n",
       "    .dataframe thead tr:last-of-type th {\n",
       "        text-align: right;\n",
       "    }\n",
       "</style>\n",
       "<table border=\"1\" class=\"dataframe\">\n",
       "  <thead>\n",
       "    <tr>\n",
       "      <th></th>\n",
       "      <th></th>\n",
       "      <th colspan=\"2\" halign=\"left\">val</th>\n",
       "      <th colspan=\"2\" halign=\"left\">time</th>\n",
       "    </tr>\n",
       "    <tr>\n",
       "      <th></th>\n",
       "      <th></th>\n",
       "      <th>mean</th>\n",
       "      <th>std</th>\n",
       "      <th>mean</th>\n",
       "      <th>std</th>\n",
       "    </tr>\n",
       "    <tr>\n",
       "      <th>algo</th>\n",
       "      <th>bitstring_size</th>\n",
       "      <th></th>\n",
       "      <th></th>\n",
       "      <th></th>\n",
       "      <th></th>\n",
       "    </tr>\n",
       "  </thead>\n",
       "  <tbody>\n",
       "    <tr>\n",
       "      <th>Genetic Algorithms</th>\n",
       "      <th>100</th>\n",
       "      <td>87.300000</td>\n",
       "      <td>47.305427</td>\n",
       "      <td>0.075050</td>\n",
       "      <td>0.004095</td>\n",
       "    </tr>\n",
       "    <tr>\n",
       "      <th>MIMIC</th>\n",
       "      <th>100</th>\n",
       "      <td>120.766667</td>\n",
       "      <td>38.286293</td>\n",
       "      <td>3.682052</td>\n",
       "      <td>0.073964</td>\n",
       "    </tr>\n",
       "    <tr>\n",
       "      <th>Randomized Hill Climbing</th>\n",
       "      <th>100</th>\n",
       "      <td>102.966667</td>\n",
       "      <td>16.249103</td>\n",
       "      <td>0.040051</td>\n",
       "      <td>0.003906</td>\n",
       "    </tr>\n",
       "    <tr>\n",
       "      <th>Simulated Annealing</th>\n",
       "      <th>100</th>\n",
       "      <td>111.866667</td>\n",
       "      <td>30.771385</td>\n",
       "      <td>0.140682</td>\n",
       "      <td>0.002665</td>\n",
       "    </tr>\n",
       "  </tbody>\n",
       "</table>\n",
       "</div>"
      ],
      "text/plain": [
       "                                                val                 time  \\\n",
       "                                               mean        std      mean   \n",
       "algo                     bitstring_size                                    \n",
       "Genetic Algorithms       100              87.300000  47.305427  0.075050   \n",
       "MIMIC                    100             120.766667  38.286293  3.682052   \n",
       "Randomized Hill Climbing 100             102.966667  16.249103  0.040051   \n",
       "Simulated Annealing      100             111.866667  30.771385  0.140682   \n",
       "\n",
       "                                                   \n",
       "                                              std  \n",
       "algo                     bitstring_size            \n",
       "Genetic Algorithms       100             0.004095  \n",
       "MIMIC                    100             0.073964  \n",
       "Randomized Hill Climbing 100             0.003906  \n",
       "Simulated Annealing      100             0.002665  "
      ]
     },
     "execution_count": 44,
     "metadata": {},
     "output_type": "execute_result"
    }
   ],
   "source": [
    "table(fp[fp.bitstring_size == 100])"
   ]
  },
  {
   "cell_type": "code",
   "execution_count": 43,
   "metadata": {},
   "outputs": [
    {
     "data": {
      "image/png": "[encoded data removed]",
      "text/plain": [
       "<matplotlib.figure.Figure at 0x109475e80>"
      ]
     },
     "metadata": {},
     "output_type": "display_data"
    },
    {
     "data": {
      "image/png": "[encoded data removed]",
      "text/plain": [
       "<matplotlib.figure.Figure at 0x1094521d0>"
      ]
     },
     "metadata": {},
     "output_type": "display_data"
    },
    {
     "data": {
      "image/png": "[encoded data removed]",
      "text/plain": [
       "<matplotlib.figure.Figure at 0x10916f9e8>"
      ]
     },
     "metadata": {},
     "output_type": "display_data"
    }
   ],
   "source": [
    "plots(fp)"
   ]
  }
 ],
 "metadata": {
  "anaconda-cloud": {},
  "kernelspec": {
   "display_name": "Python [default]",
   "language": "python",
   "name": "python3"
  },
  "language_info": {
   "codemirror_mode": {
    "name": "ipython",
    "version": 3
   },
   "file_extension": ".py",
   "mimetype": "text/x-python",
   "name": "python",
   "nbconvert_exporter": "python",
   "pygments_lexer": "ipython3",
   "version": "3.5.4"
  }
 },
 "nbformat": 4,
 "nbformat_minor": 2
}
